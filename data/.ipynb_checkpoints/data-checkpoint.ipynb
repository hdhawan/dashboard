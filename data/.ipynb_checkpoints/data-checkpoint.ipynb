{
 "cells": [
  {
   "cell_type": "code",
   "execution_count": 31,
   "metadata": {},
   "outputs": [],
   "source": [
    "import pandas as pd\n",
    "import datetime as dt"
   ]
  },
  {
   "cell_type": "code",
   "execution_count": 2,
   "metadata": {},
   "outputs": [],
   "source": [
    "df_full = pd.read_csv('cities.csv', index_col=False)"
   ]
  },
  {
   "cell_type": "code",
   "execution_count": 12,
   "metadata": {
    "scrolled": false
   },
   "outputs": [
    {
     "data": {
      "text/plain": [
       "['Unnamed: 0',\n",
       " 'base',\n",
       " 'clouds: all',\n",
       " 'cod',\n",
       " 'coord: lat',\n",
       " 'coord: lon',\n",
       " 'dt',\n",
       " 'id',\n",
       " 'main: grnd_level',\n",
       " 'main: humidity',\n",
       " 'main: pressure',\n",
       " 'main: sea_level',\n",
       " 'main: temp',\n",
       " 'main: temp_max',\n",
       " 'main: temp_min',\n",
       " 'name',\n",
       " 'rain: 3h',\n",
       " 'sys: country',\n",
       " 'sys: id',\n",
       " 'sys: message',\n",
       " 'sys: sunrise',\n",
       " 'sys: sunset',\n",
       " 'sys: type',\n",
       " 'visibility',\n",
       " 'weather: description',\n",
       " 'weather: icon',\n",
       " 'weather: id',\n",
       " 'weather: main',\n",
       " 'wind: deg',\n",
       " 'wind: gust',\n",
       " 'wind: speed']"
      ]
     },
     "execution_count": 12,
     "metadata": {},
     "output_type": "execute_result"
    }
   ],
   "source": [
    "list(df_full.columns)"
   ]
  },
  {
   "cell_type": "code",
   "execution_count": 67,
   "metadata": {
    "scrolled": false
   },
   "outputs": [],
   "source": [
    "df = df_full[['name', 'sys: country', 'coord: lat', 'coord: lon', 'dt', 'clouds: all', 'main: humidity', 'main: temp', 'wind: speed']]\n",
    "df = df.rename(\n",
    "    columns = {\n",
    "        'name': 'City',\n",
    "        'sys: country': 'Country',\n",
    "        'coord: lat': 'Latitude',\n",
    "        'coord: lon': 'Longitude',\n",
    "        'dt': 'Date',\n",
    "        'main: temp': 'Temperature(F)',\n",
    "        'main: humidity': 'Humidity',\n",
    "        'clouds: all': 'Cloudiness',\n",
    "        'wind: speed': 'Wind Speed(MPH)',\n",
    "        }).reset_index().rename(columns={'index': 'Index'})"
   ]
  },
  {
   "cell_type": "code",
   "execution_count": 68,
   "metadata": {},
   "outputs": [
    {
     "data": {
      "text/html": [
       "<div>\n",
       "<style scoped>\n",
       "    .dataframe tbody tr th:only-of-type {\n",
       "        vertical-align: middle;\n",
       "    }\n",
       "\n",
       "    .dataframe tbody tr th {\n",
       "        vertical-align: top;\n",
       "    }\n",
       "\n",
       "    .dataframe thead th {\n",
       "        text-align: right;\n",
       "    }\n",
       "</style>\n",
       "<table border=\"1\" class=\"dataframe\">\n",
       "  <thead>\n",
       "    <tr style=\"text-align: right;\">\n",
       "      <th></th>\n",
       "      <th>Index</th>\n",
       "      <th>City</th>\n",
       "      <th>Country</th>\n",
       "      <th>Latitude</th>\n",
       "      <th>Longitude</th>\n",
       "      <th>Date</th>\n",
       "      <th>Cloudiness</th>\n",
       "      <th>Humidity</th>\n",
       "      <th>Temperature(F)</th>\n",
       "      <th>Wind Speed(MPH)</th>\n",
       "    </tr>\n",
       "  </thead>\n",
       "  <tbody>\n",
       "    <tr>\n",
       "      <th>0</th>\n",
       "      <td>0</td>\n",
       "      <td>Khatanga</td>\n",
       "      <td>RU</td>\n",
       "      <td>71.98</td>\n",
       "      <td>102.47</td>\n",
       "      <td>1533444220</td>\n",
       "      <td>12</td>\n",
       "      <td>84</td>\n",
       "      <td>56.74</td>\n",
       "      <td>23.89</td>\n",
       "    </tr>\n",
       "    <tr>\n",
       "      <th>1</th>\n",
       "      <td>1</td>\n",
       "      <td>Alofi</td>\n",
       "      <td>NU</td>\n",
       "      <td>-19.06</td>\n",
       "      <td>-169.92</td>\n",
       "      <td>1533441600</td>\n",
       "      <td>88</td>\n",
       "      <td>78</td>\n",
       "      <td>71.60</td>\n",
       "      <td>12.75</td>\n",
       "    </tr>\n",
       "    <tr>\n",
       "      <th>2</th>\n",
       "      <td>2</td>\n",
       "      <td>Kodiak</td>\n",
       "      <td>US</td>\n",
       "      <td>39.95</td>\n",
       "      <td>-94.76</td>\n",
       "      <td>1533441180</td>\n",
       "      <td>1</td>\n",
       "      <td>69</td>\n",
       "      <td>77.00</td>\n",
       "      <td>9.17</td>\n",
       "    </tr>\n",
       "    <tr>\n",
       "      <th>3</th>\n",
       "      <td>3</td>\n",
       "      <td>Mehamn</td>\n",
       "      <td>NO</td>\n",
       "      <td>71.03</td>\n",
       "      <td>27.85</td>\n",
       "      <td>1533444220</td>\n",
       "      <td>92</td>\n",
       "      <td>100</td>\n",
       "      <td>51.52</td>\n",
       "      <td>5.99</td>\n",
       "    </tr>\n",
       "    <tr>\n",
       "      <th>4</th>\n",
       "      <td>4</td>\n",
       "      <td>Nuevo Progreso</td>\n",
       "      <td>MX</td>\n",
       "      <td>17.14</td>\n",
       "      <td>-95.05</td>\n",
       "      <td>1533444221</td>\n",
       "      <td>88</td>\n",
       "      <td>88</td>\n",
       "      <td>74.65</td>\n",
       "      <td>2.86</td>\n",
       "    </tr>\n",
       "  </tbody>\n",
       "</table>\n",
       "</div>"
      ],
      "text/plain": [
       "   Index            City Country  Latitude  Longitude        Date  Cloudiness  \\\n",
       "0      0        Khatanga      RU     71.98     102.47  1533444220          12   \n",
       "1      1           Alofi      NU    -19.06    -169.92  1533441600          88   \n",
       "2      2          Kodiak      US     39.95     -94.76  1533441180           1   \n",
       "3      3          Mehamn      NO     71.03      27.85  1533444220          92   \n",
       "4      4  Nuevo Progreso      MX     17.14     -95.05  1533444221          88   \n",
       "\n",
       "   Humidity  Temperature(F)  Wind Speed(MPH)  \n",
       "0        84           56.74            23.89  \n",
       "1        78           71.60            12.75  \n",
       "2        69           77.00             9.17  \n",
       "3       100           51.52             5.99  \n",
       "4        88           74.65             2.86  "
      ]
     },
     "execution_count": 68,
     "metadata": {},
     "output_type": "execute_result"
    }
   ],
   "source": [
    "df.head()"
   ]
  },
  {
   "cell_type": "code",
   "execution_count": 69,
   "metadata": {},
   "outputs": [],
   "source": [
    "df.to_csv('city_data.csv', index=False)"
   ]
  }
 ],
 "metadata": {
  "kernelspec": {
   "display_name": "Python [conda env:PythonData]",
   "language": "python",
   "name": "conda-env-PythonData-py"
  },
  "language_info": {
   "codemirror_mode": {
    "name": "ipython",
    "version": 3
   },
   "file_extension": ".py",
   "mimetype": "text/x-python",
   "name": "python",
   "nbconvert_exporter": "python",
   "pygments_lexer": "ipython3",
   "version": "3.5.5"
  }
 },
 "nbformat": 4,
 "nbformat_minor": 2
}
